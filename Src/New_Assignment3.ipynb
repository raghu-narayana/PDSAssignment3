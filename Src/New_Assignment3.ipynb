{
  "nbformat": 4,
  "nbformat_minor": 0,
  "metadata": {
    "colab": {
      "provenance": []
    },
    "kernelspec": {
      "name": "python3",
      "display_name": "Python 3"
    },
    "language_info": {
      "name": "python"
    }
  },
  "cells": [
    {
      "cell_type": "code",
      "execution_count": 62,
      "metadata": {
        "id": "QW_qtqSv0T5w"
      },
      "outputs": [],
      "source": [
        "import pandas as pd\n",
        "import numpy as np\n",
        "import matplotlib.pyplot as plt\n",
        "from sklearn.utils import resample"
      ]
    },
    {
      "cell_type": "markdown",
      "source": [
        "a)"
      ],
      "metadata": {
        "id": "Sf7P72_A4QSE"
      }
    },
    {
      "cell_type": "code",
      "source": [
        "data = pd.read_csv('/content/diabetes.csv')\n"
      ],
      "metadata": {
        "id": "jrQeApAC0bqG"
      },
      "execution_count": 63,
      "outputs": []
    },
    {
      "cell_type": "code",
      "source": [
        "print(data.head())\n"
      ],
      "metadata": {
        "colab": {
          "base_uri": "https://localhost:8080/"
        },
        "id": "BnUQFUzt0dpm",
        "outputId": "029d48a4-27aa-4d87-e296-00fa1de0c8ac"
      },
      "execution_count": 64,
      "outputs": [
        {
          "output_type": "stream",
          "name": "stdout",
          "text": [
            "   Pregnancies  Glucose  BloodPressure  SkinThickness  Insulin   BMI  \\\n",
            "0            6      148             72             35        0  33.6   \n",
            "1            1       85             66             29        0  26.6   \n",
            "2            8      183             64              0        0  23.3   \n",
            "3            1       89             66             23       94  28.1   \n",
            "4            0      137             40             35      168  43.1   \n",
            "\n",
            "   DiabetesPedigreeFunction  Age  Outcome  \n",
            "0                     0.627   50        1  \n",
            "1                     0.351   31        0  \n",
            "2                     0.672   32        1  \n",
            "3                     0.167   21        0  \n",
            "4                     2.288   33        1  \n"
          ]
        }
      ]
    },
    {
      "cell_type": "code",
      "source": [
        "cols_with_zeros = ['Glucose', 'BloodPressure', 'SkinThickness', 'Insulin', 'BMI']\n",
        "data[cols_with_zeros] = data[cols_with_zeros].replace(0, np.nan)"
      ],
      "metadata": {
        "id": "U6l_xjtP0mcj"
      },
      "execution_count": 65,
      "outputs": []
    },
    {
      "cell_type": "code",
      "source": [
        "print(\"\\nMissing values after cleaning:\")\n",
        "print(data.isnull().sum())\n"
      ],
      "metadata": {
        "colab": {
          "base_uri": "https://localhost:8080/"
        },
        "id": "_QZmm-4C0gYX",
        "outputId": "f11c03eb-0b34-4d4a-a9e5-06dcd2104c68"
      },
      "execution_count": 66,
      "outputs": [
        {
          "output_type": "stream",
          "name": "stdout",
          "text": [
            "\n",
            "Missing values after cleaning:\n",
            "Pregnancies                   0\n",
            "Glucose                       5\n",
            "BloodPressure                35\n",
            "SkinThickness               227\n",
            "Insulin                     374\n",
            "BMI                          11\n",
            "DiabetesPedigreeFunction      0\n",
            "Age                           0\n",
            "Outcome                       0\n",
            "dtype: int64\n"
          ]
        }
      ]
    },
    {
      "cell_type": "code",
      "source": [
        "data_imputed = data.fillna(data.mean())\n"
      ],
      "metadata": {
        "id": "3Q3Dq0Ir0rrT"
      },
      "execution_count": 67,
      "outputs": []
    },
    {
      "cell_type": "code",
      "source": [
        "print(\"\\nMissing Values After Handling:\")\n",
        "print(data_imputed.isnull().sum())"
      ],
      "metadata": {
        "colab": {
          "base_uri": "https://localhost:8080/"
        },
        "id": "lb0wACp_1HOo",
        "outputId": "eb1564fe-cda4-440b-f6b4-2b85c4cef2ae"
      },
      "execution_count": 68,
      "outputs": [
        {
          "output_type": "stream",
          "name": "stdout",
          "text": [
            "\n",
            "Missing Values After Handling:\n",
            "Pregnancies                 0\n",
            "Glucose                     0\n",
            "BloodPressure               0\n",
            "SkinThickness               0\n",
            "Insulin                     0\n",
            "BMI                         0\n",
            "DiabetesPedigreeFunction    0\n",
            "Age                         0\n",
            "Outcome                     0\n",
            "dtype: int64\n"
          ]
        }
      ]
    },
    {
      "cell_type": "code",
      "source": [
        "cleaned_filename = 'cleaned_diabetes.csv'\n",
        "data.to_csv(cleaned_filename, index=False)"
      ],
      "metadata": {
        "id": "kjfW_bLO1J4w"
      },
      "execution_count": 69,
      "outputs": []
    },
    {
      "cell_type": "code",
      "source": [
        "cleaned_data = pd.read_csv('/content/cleaned_diabetes.csv')\n"
      ],
      "metadata": {
        "id": "eX4eBAGk1Rkg"
      },
      "execution_count": 70,
      "outputs": []
    },
    {
      "cell_type": "code",
      "source": [
        "print(\"\\nAfter loading the cleaned dataset:\")\n",
        "print(cleaned_data.head())"
      ],
      "metadata": {
        "colab": {
          "base_uri": "https://localhost:8080/"
        },
        "id": "dUcye1dr1kQz",
        "outputId": "92eea89a-bc47-43a3-ef83-e58f146e5ac7"
      },
      "execution_count": 71,
      "outputs": [
        {
          "output_type": "stream",
          "name": "stdout",
          "text": [
            "\n",
            "After loading the cleaned dataset:\n",
            "   Pregnancies  Glucose  BloodPressure  SkinThickness  Insulin   BMI  \\\n",
            "0            6    148.0           72.0           35.0      NaN  33.6   \n",
            "1            1     85.0           66.0           29.0      NaN  26.6   \n",
            "2            8    183.0           64.0            NaN      NaN  23.3   \n",
            "3            1     89.0           66.0           23.0     94.0  28.1   \n",
            "4            0    137.0           40.0           35.0    168.0  43.1   \n",
            "\n",
            "   DiabetesPedigreeFunction  Age  Outcome  \n",
            "0                     0.627   50        1  \n",
            "1                     0.351   31        0  \n",
            "2                     0.672   32        1  \n",
            "3                     0.167   21        0  \n",
            "4                     2.288   33        1  \n"
          ]
        }
      ]
    },
    {
      "cell_type": "markdown",
      "source": [
        "a)"
      ],
      "metadata": {
        "id": "AzXVhX-UQqvH"
      }
    },
    {
      "cell_type": "code",
      "source": [
        "np.random.seed(2375)\n"
      ],
      "metadata": {
        "id": "QYFhuJHM1nZK"
      },
      "execution_count": 72,
      "outputs": []
    },
    {
      "cell_type": "code",
      "source": [
        "sample = data.sample(25)\n"
      ],
      "metadata": {
        "id": "FeE9eHad2ep8"
      },
      "execution_count": 73,
      "outputs": []
    },
    {
      "cell_type": "code",
      "source": [
        "population_mean_glucose = data['Glucose'].mean()\n",
        "population_highest_glucose = data['Glucose'].max()"
      ],
      "metadata": {
        "id": "rdbPo78P2miy"
      },
      "execution_count": 74,
      "outputs": []
    },
    {
      "cell_type": "code",
      "source": [
        "sample_mean_glucose = sample['Glucose'].mean()\n",
        "sample_highest_glucose = sample['Glucose'].max()"
      ],
      "metadata": {
        "id": "UAAS39kK2pIB"
      },
      "execution_count": 75,
      "outputs": []
    },
    {
      "cell_type": "code",
      "source": [
        "labels = ['Population Mean', 'Population Highest', 'Sample Mean', 'Sample Highest']\n",
        "values = [population_mean_glucose, population_highest_glucose, sample_mean_glucose, sample_highest_glucose]"
      ],
      "metadata": {
        "id": "rrveRbVT20IR"
      },
      "execution_count": 76,
      "outputs": []
    },
    {
      "cell_type": "code",
      "source": [
        "plt.bar(labels, values, color=['blue', 'blue', 'orange', 'orange'])\n",
        "plt.title('Comparison of Glucose Statistics between Population and Sample')\n",
        "plt.ylabel('Glucose Values')\n",
        "plt.show()"
      ],
      "metadata": {
        "colab": {
          "base_uri": "https://localhost:8080/",
          "height": 452
        },
        "id": "ry7Y2XgB27Jh",
        "outputId": "c4decb83-7b92-4943-bfde-2d5007e8efad"
      },
      "execution_count": 77,
      "outputs": [
        {
          "output_type": "display_data",
          "data": {
            "text/plain": [
              "<Figure size 640x480 with 1 Axes>"
            ],
            "image/png": "[encoded data removed]"
          },
          "metadata": {}
        }
      ]
    },
    {
      "cell_type": "markdown",
      "source": [
        "b)"
      ],
      "metadata": {
        "id": "dB_BiP6Q4vv-"
      }
    },
    {
      "cell_type": "code",
      "source": [
        "cleaned_data = pd.read_csv('/content/cleaned_diabetes.csv')\n"
      ],
      "metadata": {
        "id": "7K9lvm9Q29gM"
      },
      "execution_count": 78,
      "outputs": []
    },
    {
      "cell_type": "code",
      "source": [
        "np.random.seed(2375)\n"
      ],
      "metadata": {
        "id": "Z-PFs9Wb46RT"
      },
      "execution_count": 79,
      "outputs": []
    },
    {
      "cell_type": "code",
      "source": [
        "sample = data.sample(25)\n"
      ],
      "metadata": {
        "id": "gKW_E9VG6sDV"
      },
      "execution_count": 80,
      "outputs": []
    },
    {
      "cell_type": "code",
      "source": [
        "population_98th_percentile_bmi = data['BMI'].quantile(0.98)\n",
        "sample_98th_percentile_bmi = sample['BMI'].quantile(0.98)"
      ],
      "metadata": {
        "id": "LHnTxKl76uYR"
      },
      "execution_count": 81,
      "outputs": []
    },
    {
      "cell_type": "code",
      "source": [
        "labels = ['Population 98th Percentile BMI', 'Sample 98th Percentile BMI']\n",
        "values = [population_98th_percentile_bmi, sample_98th_percentile_bmi]"
      ],
      "metadata": {
        "id": "bWh-DRmA6yju"
      },
      "execution_count": 82,
      "outputs": []
    },
    {
      "cell_type": "code",
      "source": [
        "plt.bar(labels, values, color=['blue', 'orange'])\n",
        "plt.title('Comparison of 98th Percentile BMI between Population and Sample')\n",
        "plt.xlabel('Group')\n",
        "plt.ylabel('BMI Values')\n",
        "plt.show()"
      ],
      "metadata": {
        "colab": {
          "base_uri": "https://localhost:8080/",
          "height": 472
        },
        "id": "yezFcHJa64BF",
        "outputId": "36547746-8291-4143-ec9c-802cfbe25433"
      },
      "execution_count": 83,
      "outputs": [
        {
          "output_type": "display_data",
          "data": {
            "text/plain": [
              "<Figure size 640x480 with 1 Axes>"
            ],
            "image/png": "[encoded data removed]"
          },
          "metadata": {}
        }
      ]
    },
    {
      "cell_type": "markdown",
      "source": [
        "C)"
      ],
      "metadata": {
        "id": "Hkt78qTF89YV"
      }
    },
    {
      "cell_type": "code",
      "source": [
        "np.random.seed(2375)\n"
      ],
      "metadata": {
        "id": "LAXWoutR67QC"
      },
      "execution_count": 84,
      "outputs": []
    },
    {
      "cell_type": "code",
      "source": [
        "bootstrap_samples = []\n",
        "for _ in range(500):\n",
        "    bootstrap_sample = data['BloodPressure'].sample(150, replace=True)\n",
        "    bootstrap_samples.append(bootstrap_sample)\n"
      ],
      "metadata": {
        "id": "SvmozLs49Dw6"
      },
      "execution_count": 85,
      "outputs": []
    },
    {
      "cell_type": "code",
      "source": [
        "bootstrap_means = [sample.mean() for sample in bootstrap_samples]\n",
        "bootstrap_std_devs = [sample.std() for sample in bootstrap_samples]\n",
        "bootstrap_percentiles = [np.percentile(sample, 95) for sample in bootstrap_samples]\n",
        "\n",
        "\n"
      ],
      "metadata": {
        "id": "bcCaSywP9KQ6"
      },
      "execution_count": 86,
      "outputs": []
    },
    {
      "cell_type": "code",
      "source": [
        "population_mean = data['BloodPressure'].mean()\n",
        "population_std_dev = data['BloodPressure'].std()\n",
        "population_percentile = np.percentile(data['BloodPressure'], 95)"
      ],
      "metadata": {
        "id": "2UmSNM0Z9O_1"
      },
      "execution_count": 87,
      "outputs": []
    },
    {
      "cell_type": "code",
      "source": [
        "labels = ['Population Mean', 'Bootstrap Sample Mean', 'Population Std Dev', 'Bootstrap Sample Std Dev', 'Population 95th Percentile', 'Bootstrap Sample 95th Percentile']\n",
        "values = [population_mean, np.mean(bootstrap_means), population_std_dev, np.mean(bootstrap_std_devs), population_percentile, np.mean(bootstrap_percentiles)]\n",
        "plt.figure(figsize=(18, 7))\n",
        "plt.bar(labels, values, color=['blue', 'orange', 'blue', 'orange', 'blue', 'orange'])\n",
        "plt.title('Comparison of BloodPressure Statistics: Population vs Bootstrap Samples')\n",
        "plt.xlabel('Statistics')\n",
        "plt.ylabel('BloodPressure Values')\n",
        "plt.show()"
      ],
      "metadata": {
        "colab": {
          "base_uri": "https://localhost:8080/",
          "height": 384
        },
        "id": "uBKbSmnz9dYj",
        "outputId": "cf5f2123-7940-4418-d287-ef768269813f"
      },
      "execution_count": 88,
      "outputs": [
        {
          "output_type": "display_data",
          "data": {
            "text/plain": [
              "<Figure size 1800x700 with 1 Axes>"
            ],
            "image/png": "[encoded data removed]"
          },
          "metadata": {}
        }
      ]
    },
    {
      "cell_type": "markdown",
      "source": [
        "Report of the Findings\n",
        "\n",
        "Data cleaning Before conducting the analysis, the dataset underwent a cleaning process. Zero values in specific columns (Glucose, BloodPressure, SkinThickness, Insulin, BMI) were treated as missing values and replaced with NaN to ensure data integrity. Bootstrap Analysis Methodology • Number of bootstrap samples: 500 • Sample size: 150 observations per sample • Variable of interest: BloodPressure Results\n",
        "\n",
        "Average Mean: • Population Mean: 72.40518417462484 • Bootstrap Sample Mean: 72.40630533333333\n",
        "\n",
        "Standard Deviation: • Population Standard Deviation: 12.38215888359406 • Bootstrap Sample Standard Deviation: 12.357104898946356\n",
        "\n",
        "95th Percentile: • Population 95th Percentile: 110.0 • Bootstrap Sample 95th Percentile: 110.0 Comparison and Findings The bar plots below illustrate the comparison between the population and bootstrap samples for the 95th percentile, mean, and standard deviation of 'BloodPressure'. • Quantile at 95% Comparison: • The population 95th percentile is 110.0, while the average of the bootstrap sample 95th percentiles is also 110.0. • Mean Comparison: • The population mean is approximately 72.41, and the bootstrap sample mean is approximately 72.41. • Standard Deviation Comparison: • The population standard deviation is approximately 12.38, and the bootstrap sample standard deviation is approximately 12.36.\n",
        "\n",
        "Conclusion\n",
        "\n",
        "The analysis reveals close alignment between the population and bootstrap sample statistics for 'BloodPressure.' The bootstrap samples accurately capture the variability present in the population, and there are minimal differences observed in the 95th percentile, mean, and standard deviation."
      ],
      "metadata": {
        "id": "ZDsWGeXaQSuK"
      }
    },
    {
      "cell_type": "code",
      "source": [],
      "metadata": {
        "id": "hmvSP5ui9j3f"
      },
      "execution_count": 88,
      "outputs": []
    },
    {
      "cell_type": "code",
      "source": [],
      "metadata": {
        "id": "3BA0-27E9mjX"
      },
      "execution_count": 88,
      "outputs": []
    },
    {
      "cell_type": "code",
      "source": [],
      "metadata": {
        "id": "Cx21mRP0_LbX"
      },
      "execution_count": 88,
      "outputs": []
    },
    {
      "cell_type": "code",
      "source": [],
      "metadata": {
        "id": "_HTu1dma_PKo"
      },
      "execution_count": 88,
      "outputs": []
    },
    {
      "cell_type": "code",
      "source": [],
      "metadata": {
        "id": "_475AM_q_Vyq"
      },
      "execution_count": 88,
      "outputs": []
    },
    {
      "cell_type": "code",
      "source": [],
      "metadata": {
        "id": "Q1dOGxuq_ZJP"
      },
      "execution_count": 88,
      "outputs": []
    },
    {
      "cell_type": "code",
      "source": [],
      "metadata": {
        "id": "v0OYckol_b5P"
      },
      "execution_count": 88,
      "outputs": []
    },
    {
      "cell_type": "code",
      "source": [],
      "metadata": {
        "id": "dLp834niFHT8"
      },
      "execution_count": 88,
      "outputs": []
    },
    {
      "cell_type": "code",
      "source": [
        "\n"
      ],
      "metadata": {
        "id": "i1Egc0ljFMas"
      },
      "execution_count": 88,
      "outputs": []
    },
    {
      "cell_type": "code",
      "source": [
        "\n"
      ],
      "metadata": {
        "id": "6mr8f4HwL1Bg"
      },
      "execution_count": 88,
      "outputs": []
    },
    {
      "cell_type": "code",
      "source": [],
      "metadata": {
        "id": "WvbbyvgWL3a8"
      },
      "execution_count": 88,
      "outputs": []
    },
    {
      "cell_type": "code",
      "source": [],
      "metadata": {
        "id": "SHgIShH0L6Jk"
      },
      "execution_count": 88,
      "outputs": []
    },
    {
      "cell_type": "code",
      "source": [],
      "metadata": {
        "id": "YBkTrZDiL_6O"
      },
      "execution_count": 88,
      "outputs": []
    },
    {
      "cell_type": "code",
      "source": [],
      "metadata": {
        "id": "PKrIm55VMU_i"
      },
      "execution_count": 88,
      "outputs": []
    },
    {
      "cell_type": "code",
      "source": [],
      "metadata": {
        "id": "DxeWbMNRMYFz"
      },
      "execution_count": 88,
      "outputs": []
    },
    {
      "cell_type": "code",
      "source": [],
      "metadata": {
        "id": "uRcaYOc7Mc9S"
      },
      "execution_count": 88,
      "outputs": []
    }
  ]
}